{
 "cells": [
  {
   "cell_type": "code",
   "execution_count": 12,
   "metadata": {},
   "outputs": [
    {
     "name": "stderr",
     "output_type": "stream",
     "text": [
      "Exception in Tkinter callback\n",
      "Traceback (most recent call last):\n",
      "  File \"C:\\ProgramData\\Anaconda3\\lib\\tkinter\\__init__.py\", line 1883, in __call__\n",
      "    return self.func(*args)\n",
      "  File \"<ipython-input-12-306a920a575f>\", line 14, in dycrptMessage\n",
      "    ct = onetimepad.decrypt(a,\"letupgrade\")\n",
      "NameError: name 'onetimepad' is not defined\n",
      "Exception in Tkinter callback\n",
      "Traceback (most recent call last):\n",
      "  File \"C:\\ProgramData\\Anaconda3\\lib\\tkinter\\__init__.py\", line 1883, in __call__\n",
      "    return self.func(*args)\n",
      "  File \"<ipython-input-12-306a920a575f>\", line 8, in encryptMessage\n",
      "    ct = onetimepad.encrypt(a,\"letupgrade\")\n",
      "NameError: name 'onetimepad' is not defined\n"
     ]
    }
   ],
   "source": [
    "from tkinter import *\n",
    "from onetimepad import *\n",
    "#import tkinter\n",
    "root = Tk()\n",
    "root.title(\"Chryptography App\")\n",
    "def encryptMessage():\n",
    "    a = var.get()\n",
    "    ct = onetimepad.encrypt(a,\"letupgrade\")\n",
    "    print(\"Working\",ct) \n",
    "    e2.delete(0,END)\n",
    "    e2.insert(END,ct)\n",
    "def dycrptMessage():\n",
    "    a = var2.get()\n",
    "    ct = onetimepad.decrypt(a,\"letupgrade\")\n",
    "    print(\"Working\",ct) \n",
    "    e4.delete(0,END)\n",
    "    e4.insert(END,ct)\n",
    "l1 = Label(root,text=\"Plain Text\")\n",
    "l1.grid(row=0,column=0)\n",
    "l3 = Label(root,text=\"Encypted Text\")\n",
    "l3.grid(row=0,column=2)\n",
    "var= StringVar()\n",
    "e1 = Entry(root,textvariable=var)\n",
    "e1.grid(row=0,column=1)\n",
    "var2= StringVar()\n",
    "e3 = Entry(root,textvariable=var2)\n",
    "e3.grid(row=0,column=3)\n",
    "l2 = Label(root,text=\"Encypted Text\")\n",
    "l2.grid(row=1,column=0)\n",
    "l4 = Label(root,text=\"Plain Text\")\n",
    "l4.grid(row=1,column=2)\n",
    "e2 = Entry(root)\n",
    "e2.grid(row=1,column=1)\n",
    "e4 = Entry(root)\n",
    "e4.grid(row=1,column=3)\n",
    "b1 = Button(root,text=\"Encyption\",bg=\"pink\",fg=\"yellow\",command=encryptMessage)\n",
    "b1.grid(row=2,column=1)\n",
    "b2 = Button(root,text=\"Dycrption\",bg=\"pink\",fg=\"yellow\",command=dycrptMessage)\n",
    "b2.grid(row=2,column=3)\n",
    "root.mainloop()\n"
   ]
  },
  {
   "cell_type": "code",
   "execution_count": null,
   "metadata": {},
   "outputs": [],
   "source": []
  },
  {
   "cell_type": "code",
   "execution_count": null,
   "metadata": {},
   "outputs": [],
   "source": []
  }
 ],
 "metadata": {
  "kernelspec": {
   "display_name": "Python 3",
   "language": "python",
   "name": "python3"
  }
 },
 "nbformat": 4,
 "nbformat_minor": 4
}
